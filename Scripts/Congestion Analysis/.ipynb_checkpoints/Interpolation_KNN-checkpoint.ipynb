{
 "cells": [
  {
   "cell_type": "code",
   "execution_count": 22,
   "metadata": {},
   "outputs": [
    {
     "data": {
      "text/html": [
       "<div>\n",
       "<style scoped>\n",
       "    .dataframe tbody tr th:only-of-type {\n",
       "        vertical-align: middle;\n",
       "    }\n",
       "\n",
       "    .dataframe tbody tr th {\n",
       "        vertical-align: top;\n",
       "    }\n",
       "\n",
       "    .dataframe thead th {\n",
       "        text-align: right;\n",
       "    }\n",
       "</style>\n",
       "<table border=\"1\" class=\"dataframe\">\n",
       "  <thead>\n",
       "    <tr style=\"text-align: right;\">\n",
       "      <th></th>\n",
       "      <th>latitude</th>\n",
       "      <th>longitude</th>\n",
       "      <th>pm</th>\n",
       "    </tr>\n",
       "  </thead>\n",
       "  <tbody>\n",
       "    <tr>\n",
       "      <th>0</th>\n",
       "      <td>28.815329</td>\n",
       "      <td>77.153010</td>\n",
       "      <td>307.00</td>\n",
       "    </tr>\n",
       "    <tr>\n",
       "      <th>1</th>\n",
       "      <td>28.470691</td>\n",
       "      <td>77.109936</td>\n",
       "      <td>158.47</td>\n",
       "    </tr>\n",
       "    <tr>\n",
       "      <th>2</th>\n",
       "      <td>28.776200</td>\n",
       "      <td>77.051074</td>\n",
       "      <td>417.00</td>\n",
       "    </tr>\n",
       "    <tr>\n",
       "      <th>3</th>\n",
       "      <td>28.551201</td>\n",
       "      <td>77.273574</td>\n",
       "      <td>196.45</td>\n",
       "    </tr>\n",
       "    <tr>\n",
       "      <th>4</th>\n",
       "      <td>28.750050</td>\n",
       "      <td>77.111261</td>\n",
       "      <td>274.19</td>\n",
       "    </tr>\n",
       "  </tbody>\n",
       "</table>\n",
       "</div>"
      ],
      "text/plain": [
       "    latitude  longitude      pm\n",
       "0  28.815329  77.153010  307.00\n",
       "1  28.470691  77.109936  158.47\n",
       "2  28.776200  77.051074  417.00\n",
       "3  28.551201  77.273574  196.45\n",
       "4  28.750050  77.111261  274.19"
      ]
     },
     "execution_count": 22,
     "metadata": {},
     "output_type": "execute_result"
    }
   ],
   "source": [
    "import pandas as pd\n",
    "df = pd.read_csv('25_oct_7am_static_knn.csv')\n",
    "df.head()\n",
    "# print(df['pm'])"
   ]
  },
  {
   "cell_type": "code",
   "execution_count": 23,
   "metadata": {},
   "outputs": [],
   "source": [
    "from sklearn.model_selection import train_test_split\n",
    "train , test = train_test_split(df, test_size = 0.3)\n",
    "\n",
    "x_train = train.drop('pm', axis=1)\n",
    "y_train = train['pm']\n",
    "\n",
    "x_test = test.drop('pm', axis = 1)\n",
    "y_test = test['pm']"
   ]
  },
  {
   "cell_type": "code",
   "execution_count": 24,
   "metadata": {},
   "outputs": [],
   "source": [
    "from sklearn.preprocessing import MinMaxScaler\n",
    "scaler = MinMaxScaler(feature_range=(0, 1))\n",
    "\n",
    "x_train_scaled = scaler.fit_transform(x_train)\n",
    "x_train = pd.DataFrame(x_train_scaled)\n",
    "\n",
    "x_test_scaled = scaler.fit_transform(x_test)\n",
    "x_test = pd.DataFrame(x_test_scaled)"
   ]
  },
  {
   "cell_type": "code",
   "execution_count": 25,
   "metadata": {},
   "outputs": [],
   "source": [
    "#import required packages\n",
    "from sklearn import neighbors\n",
    "from sklearn.metrics import mean_squared_error \n",
    "from math import sqrt\n",
    "import matplotlib.pyplot as plt\n",
    "%matplotlib inline"
   ]
  },
  {
   "cell_type": "code",
   "execution_count": 26,
   "metadata": {},
   "outputs": [
    {
     "name": "stdout",
     "output_type": "stream",
     "text": [
      "RMSE value for k=  1 is: 127.63543725958102\n",
      "RMSE value for k=  2 is: 103.01927414054346\n",
      "RMSE value for k=  3 is: 66.70799092377479\n",
      "RMSE value for k=  4 is: 59.25229870130685\n",
      "RMSE value for k=  5 is: 73.66320247360052\n",
      "RMSE value for k=  6 is: 90.8818689797875\n"
     ]
    }
   ],
   "source": [
    "rmse_val = [] #to store rmse values for different k\n",
    "for K in range(6):\n",
    "    K = K+1\n",
    "    model = neighbors.KNeighborsRegressor(n_neighbors = K)\n",
    "\n",
    "    model.fit(x_train, y_train)  #fit the model\n",
    "    pred=model.predict(x_test) #make prediction on test set\n",
    "    error = sqrt(mean_squared_error(y_test,pred)) #calculate rmse\n",
    "    rmse_val.append(error) #store rmse values\n",
    "    print('RMSE value for k= ' , K , 'is:', error)"
   ]
  },
  {
   "cell_type": "code",
   "execution_count": 27,
   "metadata": {},
   "outputs": [
    {
     "data": {
      "text/plain": [
       "<matplotlib.axes._subplots.AxesSubplot at 0x602041d088>"
      ]
     },
     "execution_count": 27,
     "metadata": {},
     "output_type": "execute_result"
    },
    {
     "data": {
      "image/png": "[encoded data removed]",
      "text/plain": [
       "<Figure size 432x288 with 1 Axes>"
      ]
     },
     "metadata": {
      "needs_background": "light"
     },
     "output_type": "display_data"
    }
   ],
   "source": [
    "#plotting the rmse values against k values\n",
    "curve = pd.DataFrame(rmse_val) #elbow curve \n",
    "curve.plot()"
   ]
  },
  {
   "cell_type": "code",
   "execution_count": 28,
   "metadata": {},
   "outputs": [
    {
     "data": {
      "text/plain": [
       "{'n_neighbors': 6}"
      ]
     },
     "execution_count": 28,
     "metadata": {},
     "output_type": "execute_result"
    }
   ],
   "source": [
    "# ---------------------- MAIN CODE --------------------------\n",
    "\n",
    "import pandas as pd\n",
    "df = pd.read_csv('25_oct_7am_static_knn.csv')\n",
    "df.head()\n",
    "\n",
    "from sklearn.model_selection import train_test_split\n",
    "train , test = train_test_split(df, test_size = 0.3,random_state = 1)\n",
    "\n",
    "x_train = train.drop('pm', axis=1)\n",
    "y_train = train['pm']\n",
    "\n",
    "x_test = test.drop('pm', axis = 1)\n",
    "y_test = test['pm']\n",
    "\n",
    "from sklearn.model_selection import GridSearchCV\n",
    "params = {'n_neighbors':[1,2,3,4,5,6]}\n",
    "\n",
    "knn = neighbors.KNeighborsRegressor(weights = 'distance')\n",
    "#leave one out cross validation\n",
    "model = GridSearchCV(knn, params, cv=len(x_train),scoring = \"neg_root_mean_squared_error\")\n",
    "model.fit(x_train,y_train)\n",
    "model.best_params_\n"
   ]
  },
  {
   "cell_type": "code",
   "execution_count": 29,
   "metadata": {},
   "outputs": [
    {
     "name": "stdout",
     "output_type": "stream",
     "text": [
      "24    207.00\n",
      "17     98.60\n",
      "19    278.00\n",
      "20    198.46\n",
      "14    271.00\n",
      "3     196.45\n",
      "22    160.32\n",
      "10    118.42\n",
      "21    284.00\n",
      "Name: pm, dtype: float64\n",
      "[216.12205974 234.9084137  285.9347203  236.95921594 336.40005915\n",
      " 239.11558858 264.34114682 207.8791786  314.84844836]\n",
      "RMSE value for k=  6 is: 71.55482405125866\n"
     ]
    }
   ],
   "source": [
    "\n",
    "best_k = model.best_params_['n_neighbors']\n",
    "pred=model.predict(x_test) #make prediction on test set\n",
    "print(y_test)\n",
    "print(pred)\n",
    "error = sqrt(mean_squared_error(y_test,pred)) #calculate rmse\n",
    "rmse_val.append(error) #store rmse values\n",
    "print('RMSE value for k= ' , best_k , 'is:', error)"
   ]
  },
  {
   "cell_type": "code",
   "execution_count": 9,
   "metadata": {},
   "outputs": [],
   "source": [
    "## Entire data\n",
    "\n",
    "\n",
    "bus_df = pd.read_csv('2020-10-25_all.csv',parse_dates = [\"dateTime\"])\n",
    "# bus_df.head()"
   ]
  },
  {
   "cell_type": "code",
   "execution_count": 126,
   "metadata": {},
   "outputs": [],
   "source": [
    "# bus_df.iloc[0]['dateTime']\n"
   ]
  },
  {
   "cell_type": "code",
   "execution_count": null,
   "metadata": {},
   "outputs": [],
   "source": []
  },
  {
   "cell_type": "code",
   "execution_count": null,
   "metadata": {},
   "outputs": [],
   "source": [
    "\n"
   ]
  },
  {
   "cell_type": "code",
   "execution_count": 10,
   "metadata": {},
   "outputs": [],
   "source": [
    "# get target hour bucket\n",
    "for i in range(24):\n",
    "    hour_bucket = bus_df.loc[(bus_df.dateTime.apply(lambda x: x.hour) == i), ['lat','long','pm2_5']]\n",
    "#     print(len(hour_bucket))\n",
    "hour_bucket = bus_df.loc[(bus_df.dateTime.apply(lambda x: x.hour) == 7), ['lat','long','pm2_5']]\n",
    "    "
   ]
  },
  {
   "cell_type": "code",
   "execution_count": 11,
   "metadata": {},
   "outputs": [
    {
     "name": "stdout",
     "output_type": "stream",
     "text": [
      "cv =  5\n"
     ]
    },
    {
     "data": {
      "text/plain": [
       "{'n_neighbors': 5}"
      ]
     },
     "execution_count": 11,
     "metadata": {},
     "output_type": "execute_result"
    }
   ],
   "source": [
    "\n",
    "from sklearn.model_selection import train_test_split\n",
    "train , test = train_test_split(hour_bucket, test_size = 0.3,random_state = 1)\n",
    "\n",
    "x_train = train.drop('pm2_5', axis=1)\n",
    "y_train = train['pm2_5']\n",
    "\n",
    "# x_test = test.drop('pm2_5', axis = 1)\n",
    "# y_test = test['pm2_5']\n",
    "\n",
    "from sklearn.model_selection import GridSearchCV\n",
    "params = {'n_neighbors':[1,2,3,4,5,6]}\n",
    "\n",
    "knn = neighbors.KNeighborsRegressor()\n",
    "#leave one out cross validation\n",
    "cv_param = 0\n",
    "if len(x_train) < 50:\n",
    "    cv_param = len(x_train)   #leave one out\n",
    "else:\n",
    "    cv_param= 5\n",
    "print('cv = ',cv_param)\n",
    "model = GridSearchCV(knn, params, cv=cv_param,scoring = \"neg_root_mean_squared_error\")\n",
    "model.fit(x_train,y_train)\n",
    "model.best_params_\n"
   ]
  },
  {
   "cell_type": "code",
   "execution_count": 12,
   "metadata": {},
   "outputs": [
    {
     "name": "stdout",
     "output_type": "stream",
     "text": [
      "24    207.00\n",
      "17     98.60\n",
      "19    278.00\n",
      "20    198.46\n",
      "14    271.00\n",
      "3     196.45\n",
      "22    160.32\n",
      "10    118.42\n",
      "21    284.00\n",
      "Name: pm, dtype: float64\n",
      "[230.6 230.2 277.8 221.6 277.8 302.4 435.1 216.8 277.8]\n",
      "RMSE value for k=  5 is: 112.99153109857394\n"
     ]
    }
   ],
   "source": [
    "best_k = model.best_params_['n_neighbors']\n",
    "pred=model.predict(x_test) #make prediction on test set\n",
    "print(y_test)\n",
    "print(pred)\n",
    "error = sqrt(mean_squared_error(y_test,pred)) #calculate rmse\n",
    "rmse_val.append(error) #store rmse values\n",
    "print('RMSE value for k= ' , best_k , 'is:', error)"
   ]
  },
  {
   "cell_type": "code",
   "execution_count": null,
   "metadata": {},
   "outputs": [],
   "source": []
  }
 ],
 "metadata": {
  "kernelspec": {
   "display_name": "Python 3",
   "language": "python",
   "name": "python3"
  },
  "language_info": {
   "codemirror_mode": {
    "name": "ipython",
    "version": 3
   },
   "file_extension": ".py",
   "mimetype": "text/x-python",
   "name": "python",
   "nbconvert_exporter": "python",
   "pygments_lexer": "ipython3",
   "version": "3.7.6"
  }
 },
 "nbformat": 4,
 "nbformat_minor": 4
}
