{
 "cells": [
  {
   "cell_type": "code",
   "execution_count": 2,
   "metadata": {},
   "outputs": [],
   "source": [
    "import pandas as pd"
   ]
  },
  {
   "cell_type": "code",
   "execution_count": 3,
   "metadata": {},
   "outputs": [],
   "source": [
    "## Entire data\n",
    "\n",
    "\n",
    "bus_df = pd.read_csv('2020-10-28.csv',parse_dates = [\"dateTime\"])"
   ]
  },
  {
   "cell_type": "code",
   "execution_count": 4,
   "metadata": {},
   "outputs": [],
   "source": [
    "# for a particular device id\n",
    "frequent_device_id = '00000000078e6811'\n",
    "frq_bus_df = hour_bucket = bus_df.loc[(bus_df.deviceId == frequent_device_id)]\n"
   ]
  },
  {
   "cell_type": "code",
   "execution_count": 5,
   "metadata": {},
   "outputs": [],
   "source": [
    "total = len(frq_bus_df)"
   ]
  },
  {
   "cell_type": "code",
   "execution_count": 6,
   "metadata": {},
   "outputs": [
    {
     "name": "stdout",
     "output_type": "stream",
     "text": [
      "5 hrs 30 mins 657 ( 4.240898528272656 %)\n",
      "6 hrs 30 mins 577 ( 3.7245029692744644 %)\n",
      "7 hrs 30 mins 138 ( 0.8907823392718823 %)\n",
      "8 hrs 30 mins 152 ( 0.9811515620965658 %)\n",
      "9 hrs 30 mins 930 ( 6.003098373353989 %)\n",
      "10 hrs 30 mins 785 ( 5.067131422669765 %)\n",
      "11 hrs 30 mins 840 ( 5.4221533694810224 %)\n",
      "12 hrs 30 mins 681 ( 4.395817195972115 %)\n",
      "13 hrs 30 mins 566 ( 3.653498579912213 %)\n",
      "14 hrs 30 mins 681 ( 4.395817195972115 %)\n",
      "15 hrs 30 mins 803 ( 5.183320423444358 %)\n",
      "16 hrs 30 mins 812 ( 5.2414149238316545 %)\n",
      "17 hrs 30 mins 726 ( 4.686289697908598 %)\n",
      "18 hrs 30 mins 498 ( 3.214562354763749 %)\n",
      "19 hrs 30 mins 550 ( 3.550219468112574 %)\n",
      "20 hrs 30 mins 645 ( 4.163439194422928 %)\n",
      "21 hrs 30 mins 861 ( 5.5577072037180475 %)\n",
      "22 hrs 30 mins 801 ( 5.170410534469403 %)\n",
      "23 hrs 30 mins 864 ( 5.57707203718048 %)\n",
      "0 hrs 30 mins 804 ( 5.189775367931835 %)\n",
      "1 hrs 30 mins 695 ( 4.486186418796798 %)\n",
      "2 hrs 30 mins 0 ( 0.0 %)\n",
      "3 hrs 30 mins 773 ( 4.989672088820036 %)\n",
      "4 hrs 30 mins 653 ( 4.215078750322747 %)\n"
     ]
    }
   ],
   "source": [
    "hourly_range = 1\n",
    "for hour in range((int)(24/hourly_range)):\n",
    "    start = hourly_range*hour\n",
    "    end = start + hourly_range\n",
    "    result = frq_bus_df.loc[(frq_bus_df.dateTime.apply(lambda x: x.hour) == start) ]\n",
    "    \n",
    "    for i in range(start+1,end):\n",
    "        temp = frq_bus_df.loc[(frq_bus_df.dateTime.apply(lambda x: x.hour) == i) ]\n",
    "        result = pd.concat([result,temp], ignore_index=True)\n",
    "        \n",
    "    \n",
    "    print((start+5)%24,\"hrs 30 mins\",len(result), \"(\", len(result)/total*100 , \"%)\")"
   ]
  },
  {
   "cell_type": "code",
   "execution_count": 44,
   "metadata": {},
   "outputs": [],
   "source": [
    "#------------------------------------------------\n",
    "frq_bus_df = pd.read_csv('2020-10-25.csv',parse_dates = [\"dateTime\"])"
   ]
  },
  {
   "cell_type": "code",
   "execution_count": 45,
   "metadata": {},
   "outputs": [
    {
     "name": "stdout",
     "output_type": "stream",
     "text": [
      "16253\n"
     ]
    }
   ],
   "source": [
    "total = len(frq_bus_df)\n",
    "print(total)"
   ]
  },
  {
   "cell_type": "code",
   "execution_count": 29,
   "metadata": {},
   "outputs": [],
   "source": [
    "def getSlotwiseDistance(file_name,hourly_range,time_slice):\n",
    "    frq_bus_df = pd.read_csv(file_name,parse_dates = [\"dateTime\"])\n",
    "    total = len(frq_bus_df)\n",
    "#     hourly_range = 1\n",
    "#     time_slice = 5\n",
    "    distance_list = []\n",
    "    for hour in range((int)(24/hourly_range)):\n",
    "        start = hourly_range*hour\n",
    "        end = start + hourly_range\n",
    "        result = frq_bus_df.loc[(frq_bus_df.dateTime.apply(lambda x: x.hour) == start) ]\n",
    "\n",
    "        for i in range(start+1,end):\n",
    "            temp = frq_bus_df.loc[(frq_bus_df.dateTime.apply(lambda x: x.hour) == i) ]\n",
    "            result = pd.concat([result,temp], ignore_index=True)\n",
    "\n",
    "        total_distance = distanceTravelled(result, time_slice,start,hourly_range)\n",
    "        distance_list.append(total_distance)\n",
    "\n",
    "#         print((start+5)%24,\"hrs 30 mins\",len(result), \"(\", len(result)/total*100 , \"%)\")\n",
    "#         print(\"distance travelled in meters \",total_distance)\n",
    "    return distance_list\n"
   ]
  },
  {
   "cell_type": "code",
   "execution_count": 131,
   "metadata": {},
   "outputs": [
    {
     "name": "stdout",
     "output_type": "stream",
     "text": [
      "[    0.           103.28973816    71.21708148    51.7553852\n",
      "  8887.65798467 31471.54600686  3447.24517182 28834.53780196\n",
      "   632.44635802   171.67102409  9215.95498105 19445.85805629\n",
      "  2763.19235767 24354.55190743  3998.33673876 26424.96583363\n",
      "   449.08040353 15447.92182825  8407.269777   14444.70033096\n",
      " 14616.99318315     0.             0.             0.        ]\n",
      "[    0.             0.             0.           152.84967465\n",
      " 11715.29521972 30701.45467771  2361.97195156 27541.79377593\n",
      "  1254.5030206   2729.68025093 16668.48054816 16921.24612023\n",
      "  1850.39677044 22896.94142873  4249.54552615 21504.04533651\n",
      "  6009.17488426 12039.30470765 13071.11319548 14468.58849669\n",
      " 15291.77528989  1742.97061942    84.81442119   246.5086881 ]\n"
     ]
    }
   ],
   "source": [
    "distance_list_25 = np.array(getSlotwiseDistance('2020-10-25.csv',1,5))\n",
    "# distance_list_27 = np.array(getSlotwiseDistance('2020-10-27.csv',1,1))\n",
    "# distance_list_28 = np.array(getSlotwiseDistance('2020-10-28.csv',1,1))\n",
    "print(distance_list_25)\n",
    "print(distance_list_27)\n"
   ]
  },
  {
   "cell_type": "code",
   "execution_count": 50,
   "metadata": {
    "scrolled": true
   },
   "outputs": [
    {
     "name": "stdout",
     "output_type": "stream",
     "text": [
      "5 hrs 30 mins 0 ( 0.0 %)\n",
      "distance travelled in meters  0\n",
      "6 hrs 30 mins 729 ( 4.485325786008737 %)\n",
      "distance travelled in meters  103.28973816127257\n",
      "7 hrs 30 mins 909 ( 5.592813634405956 %)\n",
      "distance travelled in meters  71.2170814771005\n",
      "8 hrs 30 mins 959 ( 5.900449147849628 %)\n",
      "distance travelled in meters  51.75538520103702\n",
      "9 hrs 30 mins 941 ( 5.7897003630099055 %)\n",
      "distance travelled in meters  8887.657984667523\n",
      "10 hrs 30 mins 844 ( 5.192887466929182 %)\n",
      "distance travelled in meters  31471.54600686325\n",
      "11 hrs 30 mins 700 ( 4.3068971882114075 %)\n",
      "distance travelled in meters  3447.245171819712\n",
      "12 hrs 30 mins 809 ( 4.977542607518612 %)\n",
      "distance travelled in meters  28834.53780196097\n",
      "13 hrs 30 mins 854 ( 5.254414569617917 %)\n",
      "distance travelled in meters  632.4463580167946\n",
      "14 hrs 30 mins 495 ( 3.045591583092352 %)\n",
      "distance travelled in meters  171.6710240874277\n",
      "15 hrs 30 mins 853 ( 5.248261859349043 %)\n",
      "distance travelled in meters  9215.9549810495\n",
      "16 hrs 30 mins 897 ( 5.518981111179475 %)\n",
      "distance travelled in meters  19445.858056288762\n",
      "17 hrs 30 mins 877 ( 5.395926905802006 %)\n",
      "distance travelled in meters  2763.192357672522\n",
      "18 hrs 30 mins 566 ( 3.4824340121823663 %)\n",
      "distance travelled in meters  24354.551907433673\n",
      "19 hrs 30 mins 594 ( 3.6547098997108227 %)\n",
      "distance travelled in meters  3998.336738755108\n",
      "20 hrs 30 mins 735 ( 4.522242047621978 %)\n",
      "distance travelled in meters  26424.965833632625\n",
      "21 hrs 30 mins 923 ( 5.678951578170184 %)\n",
      "distance travelled in meters  449.0804035345384\n",
      "22 hrs 30 mins 872 ( 5.365163354457639 %)\n",
      "distance travelled in meters  15447.921828250555\n",
      "23 hrs 30 mins 898 ( 5.525133821448348 %)\n",
      "distance travelled in meters  8407.269776996192\n",
      "0 hrs 30 mins 861 ( 5.297483541500031 %)\n",
      "distance travelled in meters  14444.700330959367\n",
      "1 hrs 30 mins 855 ( 5.26056727988679 %)\n",
      "distance travelled in meters  14616.993183151226\n",
      "2 hrs 30 mins 35 ( 0.21534485941057036 %)\n",
      "distance travelled in meters  0\n",
      "3 hrs 30 mins 0 ( 0.0 %)\n",
      "distance travelled in meters  0\n",
      "4 hrs 30 mins 47 ( 0.2891773826370516 %)\n",
      "distance travelled in meters  0\n"
     ]
    }
   ],
   "source": [
    "hourly_range = 1\n",
    "time_slice = 5\n",
    "distance_list = []\n",
    "for hour in range((int)(24/hourly_range)):\n",
    "    start = hourly_range*hour\n",
    "    end = start + hourly_range\n",
    "    result = frq_bus_df.loc[(frq_bus_df.dateTime.apply(lambda x: x.hour) == start) ]\n",
    "    \n",
    "    for i in range(start+1,end):\n",
    "        temp = frq_bus_df.loc[(frq_bus_df.dateTime.apply(lambda x: x.hour) == i) ]\n",
    "        result = pd.concat([result,temp], ignore_index=True)\n",
    "    \n",
    "    total_distance = distanceTravelled(result, time_slice,start,hourly_range)\n",
    "    distance_list.append(total_distance)\n",
    "    \n",
    "    print((start+5)%24,\"hrs 30 mins\",len(result), \"(\", len(result)/total*100 , \"%)\")\n",
    "    print(\"distance travelled in meters \",total_distance)"
   ]
  },
  {
   "cell_type": "code",
   "execution_count": 132,
   "metadata": {},
   "outputs": [
    {
     "data": {
      "image/png": "[encoded data removed]",
      "text/plain": [
       "<Figure size 1800x576 with 1 Axes>"
      ]
     },
     "metadata": {
      "needs_background": "light"
     },
     "output_type": "display_data"
    }
   ],
   "source": [
    "import matplotlib.pyplot as plt \n",
    "import numpy as np\n",
    "fig = plt.subplots(figsize =(25, 8)) \n",
    "barWidth = 0.05\n",
    "br1 = np.arange(len(distance_list)) \n",
    "br2 = [x + barWidth for x in br1] \n",
    "br3 = [x + barWidth for x in br2] \n",
    "plt.bar(br1 , distance_list_25)\n",
    "# plt.bar(br2 , distance_list_27)\n",
    "# plt.bar(br3 , distance_list_28)\n",
    "\n",
    "plt.show()"
   ]
  },
  {
   "cell_type": "code",
   "execution_count": 21,
   "metadata": {},
   "outputs": [
    {
     "data": {
      "image/png": "[encoded data removed]",
      "text/plain": [
       "<Figure size 432x288 with 1 Axes>"
      ]
     },
     "metadata": {
      "needs_background": "light"
     },
     "output_type": "display_data"
    }
   ],
   "source": [
    "\n",
    "\n",
    "\n",
    "\n",
    "\n",
    "\n"
   ]
  },
  {
   "cell_type": "code",
   "execution_count": 10,
   "metadata": {},
   "outputs": [],
   "source": [
    "def distanceTravelled(df,time_slice,start_hour,hourly_range):\n",
    "    total_distance = 0\n",
    "    if len(df)<=1:\n",
    "        return 0\n",
    "    for i in range(hourly_range):\n",
    "        current_hour = start_hour+i\n",
    "        for slice_j in range((int)(60/time_slice)):\n",
    "            current_min = time_slice*slice_j\n",
    "            df_hour = df.loc[(df.dateTime.apply(lambda x: x.hour) == current_hour) ]\n",
    "#             df_min = df_hour.loc[(df_hour.dateTime.apply(lambda x: x.minute) == 0) ]\n",
    "#             print(current_hour, current_min, len(df_hour))\n",
    "            total_distance += getSliceDistance(df_hour,current_min,time_slice)\n",
    "    \n",
    "    return total_distance\n",
    "    \n",
    "    "
   ]
  },
  {
   "cell_type": "code",
   "execution_count": null,
   "metadata": {},
   "outputs": [],
   "source": [
    "df = frq_bus_df.loc[(frq_bus_df.dateTime.apply(lambda x: x.hour) == 10) ]\n",
    "df.head"
   ]
  },
  {
   "cell_type": "code",
   "execution_count": null,
   "metadata": {},
   "outputs": [],
   "source": [
    "df_hour = frq_bus_df.loc[(frq_bus_df.dateTime.apply(lambda x: x.hour) == 10) ]\n",
    "df_min = df_hour.loc[(df_hour.dateTime.apply(lambda x: x.minute) == 0) ]\n",
    "df_min.head\n",
    "\n",
    "\n",
    "\n"
   ]
  },
  {
   "cell_type": "code",
   "execution_count": 123,
   "metadata": {},
   "outputs": [],
   "source": [
    "def getSliceDistance(df_hour,start_min,time_slice):\n",
    "    \n",
    "    result = df_hour.loc[(df_hour.dateTime.apply(lambda x: x.minute) == start_min) ]\n",
    "    if len(result) <= 1 : \n",
    "        return 0\n",
    "    start_lat = result.iloc[0]['lat']\n",
    "    start_long = result.iloc[0]['long']\n",
    "#     if start_min == 0 :\n",
    "#         print(\"-----------------------------\",start_lat)\n",
    "        \n",
    "#     print(len(result))\n",
    "    if start_min + time_slice - 1 >= 60:\n",
    "        end_min = 59\n",
    "    else:\n",
    "        end_min = (start_min + time_slice - 1)\n",
    "    result = df_hour.loc[(df_hour.dateTime.apply(lambda x: x.minute) == end_min) ]\n",
    "    if len(result) <= 1 : \n",
    "        return 0\n",
    "    end_lat = result.iloc[-1]['lat']\n",
    "    end_long = result.iloc[-1]['long']\n",
    "    slice_distance = getLatLongDistanceInMeters(start_lat,start_long,end_lat,end_long)\n",
    "    return slice_distance"
   ]
  },
  {
   "cell_type": "code",
   "execution_count": 121,
   "metadata": {},
   "outputs": [],
   "source": [
    "def calculateAverageSpeed(file_name,start_hour, initial_start_min,\n",
    "                          end_hour , end_min, time_slice):\n",
    "    bus_df = pd.read_csv(file_name,parse_dates = [\"dateTime\"])\n",
    "    total_distance = 0\n",
    "    start_min = initial_start_min\n",
    "    for hour in range(start_hour,end_hour+1):\n",
    "        df_hour = bus_df.loc[(bus_df.dateTime.apply(lambda x: x.hour) == hour)]\n",
    "        while start_min < 60 :\n",
    "            if hour == end_hour and start_min >= end_min : \n",
    "                break\n",
    "            total_distance += getSliceDistance(df_hour,start_min,time_slice )\n",
    "            start_min += time_slice\n",
    "        start_min = 0\n",
    "    print('total distance' ,total_distance/1000.0 , 'Km' )\n",
    "    \n",
    "    time_hr = (end_hour - start_hour) + (end_min - initial_start_min)/60.0\n",
    "    print('total time' , time_hr, 'hr(s)')\n",
    "    return (total_distance/1000.0)/time_hr\n",
    "    "
   ]
  },
  {
   "cell_type": "code",
   "execution_count": 95,
   "metadata": {},
   "outputs": [],
   "source": [
    "import geopy.distance\n",
    "def getLatLongDistanceInMeters(start_lat,start_long, end_lat, end_long):\n",
    "    coords_1 = (start_lat,start_long)\n",
    "    coords_2 = (end_lat, end_long)\n",
    "    return geopy.distance.geodesic(coords_1, coords_2).m\n",
    "    \n",
    "\n",
    "\n",
    "\n",
    "\n"
   ]
  },
  {
   "cell_type": "code",
   "execution_count": null,
   "metadata": {},
   "outputs": [],
   "source": [
    "getLatLongDistanceInMeters(1,0,1,0)"
   ]
  },
  {
   "cell_type": "code",
   "execution_count": 88,
   "metadata": {},
   "outputs": [
    {
     "name": "stdout",
     "output_type": "stream",
     "text": [
      "2\n"
     ]
    }
   ],
   "source": [
    "for i in range(2,3):\n",
    "    print(i)"
   ]
  },
  {
   "cell_type": "code",
   "execution_count": 134,
   "metadata": {},
   "outputs": [
    {
     "name": "stdout",
     "output_type": "stream",
     "text": [
      "total distance 18.53713455738589 Km\n",
      "total time 0.6666666666666667 hr(s)\n",
      "27.805701836078832\n"
     ]
    }
   ],
   "source": [
    "print(calculateAverageSpeed('2020-10-27.csv',10,57,11,37,5))"
   ]
  },
  {
   "cell_type": "code",
   "execution_count": null,
   "metadata": {},
   "outputs": [],
   "source": []
  }
 ],
 "metadata": {
  "kernelspec": {
   "display_name": "Python 3",
   "language": "python",
   "name": "python3"
  },
  "language_info": {
   "codemirror_mode": {
    "name": "ipython",
    "version": 3
   },
   "file_extension": ".py",
   "mimetype": "text/x-python",
   "name": "python",
   "nbconvert_exporter": "python",
   "pygments_lexer": "ipython3",
   "version": "3.7.6"
  }
 },
 "nbformat": 4,
 "nbformat_minor": 4
}
