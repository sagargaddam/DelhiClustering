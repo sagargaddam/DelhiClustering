{
 "cells": [
  {
   "cell_type": "code",
   "execution_count": 1,
   "metadata": {},
   "outputs": [],
   "source": [
    "#----------------------- Residential Confidence----------------------------\n",
    "residential_gp_cats = { 'Food_daily',\n",
    "                        'Education',\n",
    "                        'Safety',\n",
    "                        'Religion',\n",
    "                        'Health_services'}\n",
    "commercial_gp_cats = { 'Shopping_Retail',\n",
    "                       'Financial_services',\n",
    "                       'Tourism_and_Entertainment',\n",
    "                       'Transport'\n",
    "                        }"
   ]
  },
  {
   "cell_type": "code",
   "execution_count": 2,
   "metadata": {},
   "outputs": [],
   "source": [
    "import pandas as pd\n",
    "import numpy as np\n",
    "df = pd.read_csv(\"olx_houses_apartments.csv\",usecols=['Latitude','Longitude'])\n",
    "house_lat_lon = df.values\n",
    "df_shops = pd.read_csv(\"olx_shops_offices.csv\",usecols=['Latitude','Longitude'])\n",
    "office_lat_lon = df_shops.values\n",
    "station_df = pd.read_csv('locations_with_cluster_assignments_3Clusters.csv',usecols=['station_id','latitude','longitude'])\n",
    "station_bounds = station_df.values\n",
    "places_df = pd.read_csv('Google_places_unique_data_Categories_redistributed.csv',usecols=['latitude','longitude','SubCategoryClass'])\n",
    "places_lat_lon = places_df.values"
   ]
  },
  {
   "cell_type": "code",
   "execution_count": 3,
   "metadata": {},
   "outputs": [],
   "source": [
    "height = 0.00445\n",
    "width = 0.00510260779\n",
    "\n",
    "def getUpperLowerBounds(y,x):# sat_lat, sat_long\n",
    "    xmin , xmax = x - width , x+width\n",
    "    ymin, ymax = y-height, y + height\n",
    "    return xmin,ymin,xmax,ymax\n"
   ]
  },
  {
   "cell_type": "code",
   "execution_count": 4,
   "metadata": {},
   "outputs": [],
   "source": [
    "new_file = open('station_residence_confidence_result.csv','w')\n",
    "new_file.write('station_id,res_confidence\\n')\n",
    "\n",
    "for station in station_bounds:\n",
    "    box = getUpperLowerBounds(station[1],station[2])\n",
    "    res_points = 0\n",
    "    com_points = 0\n",
    "    res_confidence = 0\n",
    "    for ad in house_lat_lon: # OLX houses  --> Residential\n",
    "        if ad[1]>=box[0] and ad[1]<=box[2] and \\\n",
    "           ad[0]>=box[1] and ad[0]<=box[3]:\n",
    "                res_points += 1\n",
    "    for ad in places_lat_lon: # Google places --> residential\n",
    "        if ad[2] in residential_gp_cats:\n",
    "            if ad[1]>=box[0] and ad[1]<=box[2] and \\\n",
    "               ad[0]>=box[1] and ad[0]<=box[3]:\n",
    "                res_points += 1\n",
    "        if ad[2] in commercial_gp_cats: #Google places --> commercial\n",
    "            if ad[1]>=box[0] and ad[1]<=box[2] and \\\n",
    "               ad[0]>=box[1] and ad[0]<=box[3]:\n",
    "                com_points += 1\n",
    "    for ad in office_lat_lon: # OLX offices --> commercial\n",
    "        # ad[0] : y , ad[1] : x\n",
    "        #box[xmin,ymin,xmax,ymax]\n",
    "        if ad[1]>=box[0] and ad[1]<=box[2] and \\\n",
    "           ad[0]>=box[1] and ad[0]<=box[3]:\n",
    "                com_points += 1\n",
    "    if res_points==0 and com_points==0:\n",
    "        res_confidence = 0\n",
    "    else:\n",
    "        res_confidence = res_points / ( res_points + com_points )         \n",
    "    next_line = \",\".join(np.array([str(station[0]),str(res_confidence)]))\n",
    "    new_file.write(next_line)\n",
    "    new_file.write('\\n')\n",
    "    \n",
    "new_file.close()"
   ]
  },
  {
   "cell_type": "code",
   "execution_count": null,
   "metadata": {},
   "outputs": [],
   "source": []
  }
 ],
 "metadata": {
  "kernelspec": {
   "display_name": "Python 3",
   "language": "python",
   "name": "python3"
  },
  "language_info": {
   "codemirror_mode": {
    "name": "ipython",
    "version": 3
   },
   "file_extension": ".py",
   "mimetype": "text/x-python",
   "name": "python",
   "nbconvert_exporter": "python",
   "pygments_lexer": "ipython3",
   "version": "3.8.3"
  }
 },
 "nbformat": 4,
 "nbformat_minor": 4
}
