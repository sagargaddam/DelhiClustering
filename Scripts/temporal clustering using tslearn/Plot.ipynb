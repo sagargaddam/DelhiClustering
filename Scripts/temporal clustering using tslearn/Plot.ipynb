{
 "cells": [
  {
   "cell_type": "code",
   "execution_count": 25,
   "metadata": {},
   "outputs": [],
   "source": [
    "rf = [0.09,0.05,0.07,0.03,0.105,0.115,0.155,0.17,0.12,0.11]\n",
    "svm = [ 0.5,0.65,0.45,0.15,0.17,0.65,0.75,1.1,0.15,0.4 ]\n",
    "dt = [ 0.175,0.0,0.03,0.0,0.125,0.14,0.0,0.44,0.07,0.05 ]\n",
    "lis = [0.09,0.05,0.07,0.03,0.105,0.115,0.155,0.17,0.12,0.11]\n",
    "cat = ['religion','safety','sports_&_outdoors','tourism_&_entertainment','education','financial_services','health_services','shopping_retail','transport','food_daily']"
   ]
  },
  {
   "cell_type": "code",
   "execution_count": 26,
   "metadata": {},
   "outputs": [
    {
     "name": "stdout",
     "output_type": "stream",
     "text": [
      "10\n"
     ]
    }
   ],
   "source": [
    "print(len(lis))"
   ]
  },
  {
   "cell_type": "code",
   "execution_count": 28,
   "metadata": {},
   "outputs": [
    {
     "data": {
      "image/png": "[encoded data removed]",
      "text/plain": [
       "<Figure size 432x288 with 1 Axes>"
      ]
     },
     "metadata": {
      "needs_background": "light"
     },
     "output_type": "display_data"
    }
   ],
   "source": [
    "from matplotlib import pyplot\n",
    "\n",
    "pyplot.bar( cat,dt)\n",
    "# pyplot.xlabel(cat)\n",
    "pyplot.show()"
   ]
  },
  {
   "cell_type": "code",
   "execution_count": null,
   "metadata": {},
   "outputs": [],
   "source": []
  }
 ],
 "metadata": {
  "kernelspec": {
   "display_name": "Python 3",
   "language": "python",
   "name": "python3"
  },
  "language_info": {
   "codemirror_mode": {
    "name": "ipython",
    "version": 3
   },
   "file_extension": ".py",
   "mimetype": "text/x-python",
   "name": "python",
   "nbconvert_exporter": "python",
   "pygments_lexer": "ipython3",
   "version": "3.7.6"
  }
 },
 "nbformat": 4,
 "nbformat_minor": 4
}
